{
 "cells": [
  {
   "cell_type": "code",
   "execution_count": 2,
   "metadata": {},
   "outputs": [
    {
     "name": "stdout",
     "output_type": "stream",
     "text": [
      "CSV com condutividade unificada guardado em: /Users/diogopinto/Documents/Pessoal/path_4med/snirh_scrape/bd_CHARTS/condutividade/bd_condut_unificado.csv\n"
     ]
    }
   ],
   "source": [
    "import pandas as pd\n",
    "\n",
    "# Caminho para o CSV original\n",
    "file_path = \"/Users/diogopinto/Documents/Pessoal/path_4med/snirh_scrape/bd_CHARTS/condutividade/bd_condut.csv\"\n",
    "\n",
    "# Ler o dataset\n",
    "df = pd.read_csv(file_path, parse_dates=['data'])\n",
    "\n",
    "# Criar a nova coluna combinada: se 'condutividade' for nula, usa 'condcamp20c'\n",
    "df['condutividade_uniao'] = df['condutividade'].combine_first(df['condcamp20c'])\n",
    "\n",
    "# Eliminar as colunas antigas\n",
    "df.drop(columns=['condutividade', 'condcamp20c'], inplace=True)\n",
    "\n",
    "# Reorganizar colunas (opcional, para manter a nova coluna no lugar desejado)\n",
    "cols = df.columns.tolist()\n",
    "# Garante que 'condutividade_uniao' venha depois de 'localizacao' e 'data'\n",
    "ordered_cols = ['data', 'localizacao', 'condutividade_uniao'] + [col for col in cols if col not in ['data', 'localizacao', 'condutividade_uniao']]\n",
    "df = df[ordered_cols]\n",
    "\n",
    "# Guardar novo CSV\n",
    "output_path = \"/Users/diogopinto/Documents/Pessoal/path_4med/snirh_scrape/bd_CHARTS/condutividade/bd_condut_unificado.csv\"\n",
    "df.to_csv(output_path, index=False)\n",
    "\n",
    "print(f\"CSV com condutividade unificada guardado em: {output_path}\")"
   ]
  },
  {
   "cell_type": "code",
   "execution_count": null,
   "metadata": {},
   "outputs": [],
   "source": []
  }
 ],
 "metadata": {
  "kernelspec": {
   "display_name": "Python 3",
   "language": "python",
   "name": "python3"
  },
  "language_info": {
   "codemirror_mode": {
    "name": "ipython",
    "version": 3
   },
   "file_extension": ".py",
   "mimetype": "text/x-python",
   "name": "python",
   "nbconvert_exporter": "python",
   "pygments_lexer": "ipython3",
   "version": "3.10.7"
  }
 },
 "nbformat": 4,
 "nbformat_minor": 2
}
